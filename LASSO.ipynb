{
  "nbformat": 4,
  "nbformat_minor": 0,
  "metadata": {
    "colab": {
      "provenance": []
    },
    "kernelspec": {
      "name": "python3",
      "display_name": "Python 3"
    },
    "language_info": {
      "name": "python"
    }
  },
  "cells": [
    {
      "cell_type": "code",
      "execution_count": 1,
      "metadata": {
        "id": "LkKbwNbkdzzx"
      },
      "outputs": [],
      "source": [
        "from IPython.core.interactiveshell import InteractiveShell\n",
        "InteractiveShell.ast_node_interactivity = 'all'\n",
        "import numpy as np \n",
        "import pandas as pd\n",
        "import seaborn as sns\n",
        "import matplotlib.pyplot as plt\n",
        "\n",
        "import os\n",
        "for dirname, _, filenames in os.walk('/kaggle/input'):\n",
        "    for filename in filenames:\n",
        "        print(os.path.join(dirname, filename))\n",
        "from scipy.linalg import norm"
      ]
    },
    {
      "cell_type": "code",
      "source": [
        "df = pd.read_csv('sample_data/california_housing_train.csv')\n",
        "df1=pd.read_csv('sample_data/california_housing_test.csv')"
      ],
      "metadata": {
        "id": "C7Kylddsd9tR"
      },
      "execution_count": 2,
      "outputs": []
    },
    {
      "cell_type": "code",
      "source": [
        "y = df['median_house_value'].values\n",
        "A=df.drop(['median_house_value'],axis =1).values"
      ],
      "metadata": {
        "id": "NKz7pv5OeES5"
      },
      "execution_count": 3,
      "outputs": []
    },
    {
      "cell_type": "code",
      "source": [
        "\n",
        "A=A[:500]\n",
        "y=y[:500]\n",
        "\n",
        "mA = A.mean(axis=0)\n",
        "sA = A.std(axis=0)\n",
        "A = (A-mA)/sA\n",
        "m = y.mean()\n",
        "y = y-m"
      ],
      "metadata": {
        "id": "_CSZLXsNeGQX"
      },
      "execution_count": 13,
      "outputs": []
    },
    {
      "cell_type": "code",
      "source": [
        "class RegPb(object):\n",
        "    '''                                                                   \n",
        "        A class for regression problems with linear models.\n",
        "        \n",
        "        Attributes:\n",
        "            A: Data matrix (features)\n",
        "            y: Data vector (labels)\n",
        "            n,d: Dimensions of A\n",
        "            loss: Loss function to be considered in the regression\n",
        "                'l2': Least-squares loss\n",
        "                'logit': Logistic loss\n",
        "            lbda: Regularization parameter\n",
        "    '''\n",
        "   \n",
        "    # Instantiate the class\n",
        "    def __init__(self, A, y,lbda=0):\n",
        "        self.A = A\n",
        "        self.y = y\n",
        "        self.n, self.p = A.shape\n",
        "       \n",
        "        self.lbda = lbda\n",
        "        \n",
        "    \n",
        "    # Objective value\n",
        "    def f(self, x):\n",
        "      return np.linalg.norm(self.A.dot(x) - self.y) ** 2 / (2. ) + self.lbda * norm(x) ** 2 / 2.\n",
        "       \n",
        "    # Partial objective value\n",
        "    def f_i(self, i, x):\n",
        "       \n",
        "      return np.linalg.norm(self.A[i].dot(x) - self.y[i]) ** 2 / (2.) + self.lbda * norm(x) ** 2 / 2.\n",
        " \n",
        "    \n",
        "    # Full gradient computation\n",
        "    def grad(self, x):\n",
        "        \n",
        "    \n",
        "        return self.A.T.dot(self.A.dot(x) - self.y)  + self.lbda * x\n",
        "       \n",
        "    \n",
        "    # Partial gradient\n",
        "    def grad_i(self,i,x):\n",
        "        a_i = self.A[i]\n",
        "        \n",
        "        \n",
        "        return (a_i.dot(x) - self.y[i]) * a_i + self.lbda*x\n",
        "      \n",
        "    def fl1(self,x):\n",
        "        return self.f(x)+norm(x,ord=1)\n",
        "\n",
        "    # maximum learning rate  for the gradient\n",
        "    def tau(self):\n",
        "        C = A.transpose().dot(A)\n",
        "        L = norm(C+self.lbda*np.eye(self.p), ord=2) ** 2  \n",
        "       \n",
        "        return 1/L\n",
        "    # optimal learning rate\n",
        "    def tau_opt(self):\n",
        "      C = A.transpose().dot(A)\n",
        "      tau= 2/( norm(C+self.lbda*np.eye(self.p), ord=2) ** 2+ norm(C+self.lbda*np.eye(self.p), ord=-2) ** 2)\n",
        "      return tau"
      ],
      "metadata": {
        "id": "YoVfuE_xeKuA"
      },
      "execution_count": 5,
      "outputs": []
    },
    {
      "cell_type": "code",
      "source": [
        "def gradientdescent(prob,x0,x_min,iter,tau): ## \n",
        "  \n",
        "  s=x0\n",
        "  L=[]\n",
        "  val=0\n",
        "  for i in range(iter):\n",
        "    \n",
        "    \n",
        "    g=prob.grad(s)\n",
        "    \n",
        "    s=s - tau*g\n",
        "    \n",
        "    val=prob.f(s)-prob.f(x_min)\n",
        "    L.append(val)\n",
        "  return np.array(L),s\n"
      ],
      "metadata": {
        "id": "HTTSPZ44ewsA"
      },
      "execution_count": 22,
      "outputs": []
    },
    {
      "cell_type": "code",
      "source": [
        "lbda1=1\n",
        "lbda2=10\n",
        "lbda3=100\n",
        "n,p=1000,8\n"
      ],
      "metadata": {
        "id": "vAUC_BiQeSBp"
      },
      "execution_count": 11,
      "outputs": []
    },
    {
      "cell_type": "code",
      "source": [
        "prob1=RegPb(A,y,lbda1)\n",
        "prob2=RegPb(A,y,lbda2)\n",
        "prob3=RegPb(A,y,lbda3)"
      ],
      "metadata": {
        "id": "inV7uh7qeUZY"
      },
      "execution_count": 7,
      "outputs": []
    },
    {
      "cell_type": "code",
      "source": [
        "C = A.transpose().dot(A)"
      ],
      "metadata": {
        "id": "_RynddZSeieQ"
      },
      "execution_count": 16,
      "outputs": []
    },
    {
      "cell_type": "code",
      "source": [
        "tau_opt1 = 2 / ( np.linalg.norm(C+lbda1*np.eye(p),2) + np.linalg.norm(C+lbda1*np.eye(p),-2) )\n",
        "tau_opt2 = 2 / ( np.linalg.norm(C+lbda2*np.eye(p),2) + np.linalg.norm(C+lbda2*np.eye(p),-2) )\n",
        "tau_opt3= 2 / ( np.linalg.norm(C+lbda3*np.eye(p),2) + np.linalg.norm(C+lbda3*np.eye(p),-2) )\n",
        "print(tau_opt1,tau_opt2,tau_opt3)"
      ],
      "metadata": {
        "colab": {
          "base_uri": "https://localhost:8080/"
        },
        "id": "BWiLc52eeWl7",
        "outputId": "53cfbc8c-8192-40fc-9de8-fb321f37ee33"
      },
      "execution_count": 17,
      "outputs": [
        {
          "output_type": "stream",
          "name": "stdout",
          "text": [
            "0.0010324911556497186 0.0010229851475944479 0.0009367406848930719\n"
          ]
        }
      ]
    },
    {
      "cell_type": "code",
      "source": [
        "x_min1 = np.linalg.solve( A.transpose().dot(A)+lbda1*np.eye(p), A.transpose().dot(y) )\n",
        "x_min2 = np.linalg.solve( A.transpose().dot(A)+lbda2*np.eye(p), A.transpose().dot(y) )\n",
        "x_min3= np.linalg.solve( A.transpose().dot(A)+lbda3*np.eye(p), A.transpose().dot(y) )"
      ],
      "metadata": {
        "id": "GtcRUsX4eYlo"
      },
      "execution_count": 18,
      "outputs": []
    },
    {
      "cell_type": "code",
      "source": [
        "x0=np.zeros(p)\n",
        "\n",
        "\n",
        "\n",
        "L1=gradientdescent(prob1,x0,x_min1,200,tau_opt1/2)[0]\n",
        "L2=gradientdescent(prob2,x0,x_min2,200,tau_opt2/2)[0]\n",
        "L3=gradientdescent(prob3,x0,x_min3,200,tau_opt3/2)[0]\n",
        "B=[i   for i in range(len(L1))]\n",
        "B=np.array(B)\n",
        "\n",
        "\n",
        "plt.plot(B,L2,label='lambda=10')\n",
        "plt.plot(B,L3,label='lambda=100')\n",
        "plt.plot(B,L1,label='lambda=1')\n",
        "\n",
        "plt.xlabel('Iterations')\n",
        "plt.ylabel('f()')\n",
        "plt.title('Comparisons of coefficient of regularization ')\n",
        "\n",
        "plt.legend()\n",
        "plt.show()"
      ],
      "metadata": {
        "colab": {
          "base_uri": "https://localhost:8080/",
          "height": 330
        },
        "id": "zEeBcnzUea_i",
        "outputId": "b17507b4-e1ac-401f-d4fa-3df0862cf35c"
      },
      "execution_count": 36,
      "outputs": [
        {
          "output_type": "execute_result",
          "data": {
            "text/plain": [
              "[<matplotlib.lines.Line2D at 0x7fe5cdb1b700>]"
            ]
          },
          "metadata": {},
          "execution_count": 36
        },
        {
          "output_type": "execute_result",
          "data": {
            "text/plain": [
              "[<matplotlib.lines.Line2D at 0x7fe5cdb1bb50>]"
            ]
          },
          "metadata": {},
          "execution_count": 36
        },
        {
          "output_type": "execute_result",
          "data": {
            "text/plain": [
              "[<matplotlib.lines.Line2D at 0x7fe5cdb1b970>]"
            ]
          },
          "metadata": {},
          "execution_count": 36
        },
        {
          "output_type": "execute_result",
          "data": {
            "text/plain": [
              "Text(0.5, 0, 'Iterations')"
            ]
          },
          "metadata": {},
          "execution_count": 36
        },
        {
          "output_type": "execute_result",
          "data": {
            "text/plain": [
              "Text(0, 0.5, 'f()')"
            ]
          },
          "metadata": {},
          "execution_count": 36
        },
        {
          "output_type": "execute_result",
          "data": {
            "text/plain": [
              "Text(0.5, 1.0, 'Comparisons of coefficient of regularization ')"
            ]
          },
          "metadata": {},
          "execution_count": 36
        },
        {
          "output_type": "execute_result",
          "data": {
            "text/plain": [
              "<matplotlib.legend.Legend at 0x7fe5cdcbe9d0>"
            ]
          },
          "metadata": {},
          "execution_count": 36
        },
        {
          "output_type": "display_data",
          "data": {
            "text/plain": [
              "<Figure size 432x288 with 1 Axes>"
            ],
            "image/png": "[encoded data removed]"
          },
          "metadata": {
            "needs_background": "light"
          }
        }
      ]
    },
    {
      "cell_type": "code",
      "source": [
        "def Ista(prob,x0,x_min,k,tau):\n",
        "\n",
        "  H=[]\n",
        "  s=x0\n",
        "  lbda=prob.lbda\n",
        "  g=x0\n",
        "  for i in range(k):\n",
        "\n",
        "    val=prob.grad(s)\n",
        "\n",
        "    \n",
        "    for j in range(p):\n",
        "      g[j]=s[j]-tau*val[j]\n",
        "      if g[j]> tau*lbda :\n",
        "        s[j]=g[j] -tau*lbda\n",
        "      elif g[j] < - tau*lbda:\n",
        "        s[j]=g[j] +tau*lbda\n",
        "      else:\n",
        "        s[j]=0.\n",
        "    H.append(prob.f(s))\n",
        "    \n",
        "\n",
        "\n",
        "  return H,s\n"
      ],
      "metadata": {
        "id": "Ea0JGb-ogLMy"
      },
      "execution_count": 61,
      "outputs": []
    },
    {
      "cell_type": "code",
      "source": [
        "x0=np.zeros(p)\n",
        "\n",
        "# Testing l1 regularization\n",
        "lvals = [23,20,100,0.2,10000,0.001,0.00001]\n",
        "nlbda = len(lvals)\n",
        "\n",
        "x0 = np.ones(p)\n",
        "Xsol = np.zeros((p,nlbda))\n",
        "H=[i for i in range(100)]\n",
        "plt.figure(figsize=(7, 5))\n",
        "for i in range(nlbda):\n",
        "    lbda =lvals[i]\n",
        "    t=RegPb(A,y,lbda)\n",
        "    obj_is, Xsol[:,i] = Ista(t,x0,0,100,tau_opt1/2)\n",
        "    \n",
        "    print(\"Nonzero coefficients with lbda=\"+str(lbda)+\": \"+str(np.count_nonzero(Xsol[:,i])))\n",
        "    plt.plot(H,obj_is, label=\"lbda=\"+str(lbda), lw=2)\n",
        "    \n",
        "plt.title(\"Performance of ISTA\", fontsize=16)\n",
        "plt.xlabel(\"#Iterations\", fontsize=14)\n",
        "plt.ylabel(\"Objective (log scale)\", fontsize=14)\n",
        "plt.legend(loc=1)\n",
        "\n",
        "plt.figure(figsize=(7, 5))\n",
        "for i in range(nlbda):\n",
        "    plt.plot(Xsol[:,i],label=\"lbda=\"+str(lvals[i]), lw=2)\n",
        "plt.title(\"ISTA solutions\", fontsize=16)\n",
        "plt.xlabel(\"Component indices\", fontsize=14)\n",
        "plt.ylabel(\"Magnitude\", fontsize=14)\n",
        "plt.legend(loc=1)\n",
        "\n",
        "plt.figure(figsize=(7, 5))\n",
        "for i in range(p):\n",
        "    plt.plot(lvals,Xsol[i,:],label=\"x_\"+str(i),c=np.random.rand(3,), lw=2)\n",
        "plt.title(\"ISTA solutions\", fontsize=16)\n",
        "plt.xlabel(\"Regularization\", fontsize=14)\n",
        "plt.ylabel(\"Magnitude\", fontsize=14)\n",
        "plt.legend(ncol=4,loc=1)\n"
      ],
      "metadata": {
        "id": "hzLgxdGcgSTm"
      },
      "execution_count": null,
      "outputs": []
    }
  ]
}