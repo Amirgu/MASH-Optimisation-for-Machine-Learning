{
  "nbformat": 4,
  "nbformat_minor": 0,
  "metadata": {
    "colab": {
      "provenance": []
    },
    "kernelspec": {
      "name": "python3",
      "display_name": "Python 3"
    },
    "language_info": {
      "name": "python"
    }
  },
  "cells": [
    {
      "cell_type": "markdown",
      "source": [
        "**Part 3: Stochastic Gradient Descent**\n",
        "\n"
      ],
      "metadata": {
        "id": "L-8WUnuC2rUO"
      }
    },
    {
      "cell_type": "markdown",
      "source": [],
      "metadata": {
        "id": "JWUkoOc73FJO"
      }
    },
    {
      "cell_type": "code",
      "source": [
        "from IPython.core.interactiveshell import InteractiveShell\n",
        "InteractiveShell.ast_node_interactivity = 'all'\n",
        "import numpy as np \n",
        "import pandas as pd\n",
        "import seaborn as sns\n",
        "import matplotlib.pyplot as plt\n",
        "\n",
        "import os\n",
        "for dirname, _, filenames in os.walk('/kaggle/input'):\n",
        "    for filename in filenames:\n",
        "        print(os.path.join(dirname, filename))\n",
        "from scipy.linalg import norm"
      ],
      "metadata": {
        "id": "hUZ7nl1A3uCt"
      },
      "execution_count": 1,
      "outputs": []
    },
    {
      "cell_type": "code",
      "source": [
        "df = pd.read_csv('sample_data/california_housing_train.csv')\n",
        "df1=pd.read_csv('sample_data/california_housing_test.csv')\n"
      ],
      "metadata": {
        "id": "5g33Vlon3wjD"
      },
      "execution_count": 27,
      "outputs": []
    },
    {
      "cell_type": "code",
      "source": [
        "y = df['median_income'].values\n",
        "A=df.drop(['median_income'],axis =1).values"
      ],
      "metadata": {
        "id": "C2FSUE8j3zZf"
      },
      "execution_count": 64,
      "outputs": []
    },
    {
      "cell_type": "code",
      "source": [
        "\n",
        "A=A[:200]\n",
        "y=y[:200]\n",
        "\n",
        "mA = A.mean(axis=0)\n",
        "sA = A.std(axis=0)\n",
        "A = (A-mA)/sA\n",
        "m = y.mean()\n",
        "y = y-m\n",
        "n,p=A.shape\n"
      ],
      "metadata": {
        "id": "9Vjzb9V931G_"
      },
      "execution_count": 65,
      "outputs": []
    },
    {
      "cell_type": "code",
      "source": [
        "class RegPb(object):\n",
        "    '''                                                                   \n",
        "        A class for regression problems with linear models.\n",
        "        \n",
        "        Attributes:\n",
        "            A: Data matrix (features)\n",
        "            y: Data vector (labels)\n",
        "            n,d: Dimensions of A\n",
        "            loss: Loss function to be considered in the regression\n",
        "                'l2': Least-squares loss\n",
        "                'logit': Logistic loss\n",
        "            lbda: Regularization parameter\n",
        "    '''\n",
        "   \n",
        "    # Instantiate the class\n",
        "    def __init__(self, A, y,lbda=0):\n",
        "        self.A = A\n",
        "        self.y = y\n",
        "        self.n, self.p = A.shape\n",
        "       \n",
        "        self.lbda = lbda\n",
        "        \n",
        "    \n",
        "    # Objective value\n",
        "    def f(self, x):\n",
        "      return np.linalg.norm(self.A.dot(x) - self.y) ** 2 / (2. ) + self.lbda * norm(x) ** 2 / 2.\n",
        "       \n",
        "    # Partial objective value\n",
        "    def f_i(self, i, x):\n",
        "       \n",
        "      return np.linalg.norm(self.A[i].dot(x) - self.y[i]) ** 2 / (2.) + self.lbda * norm(x) ** 2 / 2.\n",
        " \n",
        "    \n",
        "    # Full gradient computation\n",
        "    def grad(self, x):\n",
        "        \n",
        "    \n",
        "        return self.A.T.dot(self.A.dot(x) - self.y)  + self.lbda * x\n",
        "       \n",
        "    \n",
        "    # Partial gradient\n",
        "    def grad_i(self,i,x):\n",
        "        a_i = self.A[i]\n",
        "        \n",
        "        \n",
        "        return (a_i.dot(x) - self.y[i]) * a_i + self.lbda*x\n",
        "      \n",
        "    def fl1(self,x):\n",
        "        return self.f(x)+norm(x,ord=1)\n",
        "\n",
        "    # maximum learning rate  for the gradient\n",
        "    def tau(self):\n",
        "        C = A.transpose().dot(A)\n",
        "        L = norm(C+self.lbda*np.eye(self.p), ord=2) ** 2  \n",
        "       \n",
        "        return 1/L\n",
        "    # optimal learning rate\n",
        "    def tau_opt(self):\n",
        "      C = A.transpose().dot(A)\n",
        "      tau= 2/( norm(C+self.lbda*np.eye(self.p), ord=2) ** 2+ norm(C+self.lbda*np.eye(self.p), ord=-2) ** 2)\n",
        "      return tau"
      ],
      "metadata": {
        "id": "pRKDCmtn35PG"
      },
      "execution_count": 5,
      "outputs": []
    },
    {
      "cell_type": "code",
      "source": [
        "# Stochastic gradient implementation\n",
        "def stochasticgradientdescnet(prob,x0,xtarget,tau,step0=1, n_iter=1000,nb=1,with_replace=False,GD=False): \n",
        "   \n",
        "    # Initial step: Compute and plot some initial quantities\n",
        "\n",
        "    # objective history\n",
        "    objvals = []\n",
        "    \n",
        "    # iterates distance to the minimum history\n",
        "    \n",
        "    with_replace=False\n",
        "    # Lipschitz constant\n",
        "    L = norm(A,ord=2)**2\n",
        "    \n",
        "    # Number of samples\n",
        "    n = 200\n",
        "    \n",
        "    # Initial value of current iterate  \n",
        "    x = x0.copy()\n",
        "   \n",
        "\n",
        "    # Initialize iteration counter\n",
        "    k=0\n",
        "    \n",
        "    # Current objective\n",
        "    obj = prob.f(x)\n",
        "    objvals.append(obj);\n",
        "    # Current distance to the optimum\n",
        "    \n",
        "    \n",
        "    \n",
        "  \n",
        "    # Main loop\n",
        "    while (k < n_iter):\n",
        "        # Draw the batch indices\n",
        "        ik = np.random.choice(200,nb,replace=with_replace)# Batch gradient\n",
        "        \n",
        "        # Stochastic gradient calculation\n",
        "        \n",
        "        sg = np.zeros(p)\n",
        "        for j in range(nb):\n",
        "            gi = prob.grad_i(ik[j],x)\n",
        "            sg = sg + gi\n",
        "        sg = (1/nb)*sg\n",
        "        \n",
        "        \n",
        "        if tau >0:\n",
        "            x = x - tau * sg\n",
        "        else:\n",
        "            sk = float(step0/((k+1)**0.5))\n",
        "            \n",
        "            x = x - sk * sg\n",
        "        \n",
        "      \n",
        "        \n",
        "        obj =prob.f(x)\n",
        "       \n",
        "        \n",
        "        k += 1\n",
        "        # Plot quantities of interest at the end of every epoch only\n",
        "        if (k*nb) % n == 0:\n",
        "            objvals.append(obj)\n",
        "            \n",
        "    \n",
        "    # Plot quantities of interest for the last iterate (if needed)\n",
        "    if (k*nb) % 1000 > 0:\n",
        "        objvals.append(obj)\n",
        "        \n",
        "              \n",
        "    \n",
        "    # Outputs\n",
        "    x_output = x\n",
        "    \n",
        "    return x_output, np.array(objvals), "
      ],
      "metadata": {
        "id": "_4sxVkY_4K9c"
      },
      "execution_count": 30,
      "outputs": []
    },
    {
      "cell_type": "code",
      "source": [
        "def gradientdescent(prob,x0,iter,tau): ## \n",
        "  \n",
        "  s=x0\n",
        "  L=[]\n",
        "  val=0\n",
        "  for i in range(iter):\n",
        "    \n",
        "    \n",
        "    g=prob.grad(s)\n",
        "    \n",
        "    s=s - tau*g\n",
        "    \n",
        "    val=prob.f(s)\n",
        "    L.append(val)\n",
        "  return np.array(L),s"
      ],
      "metadata": {
        "id": "ElsqXIsY4aD2"
      },
      "execution_count": 31,
      "outputs": []
    },
    {
      "cell_type": "code",
      "source": [
        "n_epochs=200\n",
        "lbda=0\n",
        "prob=RegPb(A,y,lbda)\n",
        "x0=np.zeros(p)\n",
        "x_min = np.linalg.solve( A.transpose().dot(A)+lbda*np.eye(p), A.transpose().dot(y) )\n",
        "f_min=prob.f(x_min)\n",
        "tau_opt=prob.tau_opt()\n",
        "nb=1\n",
        "\n",
        "R=stochasticgradientdescnet(prob,x0,x_min,tau_opt*2,0.2,200*n_epochs/1,1)[1]\n",
        "L=gradientdescent(prob,x0,n_epochs,tau_opt)[0]\n",
        "R1=stochasticgradientdescnet(prob,x0,x_min,tau_opt*2,0.2,int(200*n_epochs/nb),nb)[1]\n",
        "plt.figure(figsize=(7, 5))\n",
        "plt.semilogy(R/f_min-1, label=\"SD - tau_opt\", lw=2)\n",
        "\n",
        "plt.semilogy(L/f_min-1, label=\"GD - tau_opt\", lw=2)\n",
        "plt.title('Comparisons of stochastic gradient descent and gradient descent')\n",
        "plt.xlabel('epochs')\n",
        "plt.ylabel('error in log scale')\n",
        "plt.legend()\n",
        "plt.show()"
      ],
      "metadata": {
        "colab": {
          "base_uri": "https://localhost:8080/",
          "height": 402
        },
        "id": "T__j9_ly4NoW",
        "outputId": "69670547-b500-46d9-80de-e9b10922dcff"
      },
      "execution_count": 72,
      "outputs": [
        {
          "output_type": "execute_result",
          "data": {
            "text/plain": [
              "<Figure size 504x360 with 0 Axes>"
            ]
          },
          "metadata": {},
          "execution_count": 72
        },
        {
          "output_type": "execute_result",
          "data": {
            "text/plain": [
              "[<matplotlib.lines.Line2D at 0x7fb2ec5dacd0>]"
            ]
          },
          "metadata": {},
          "execution_count": 72
        },
        {
          "output_type": "execute_result",
          "data": {
            "text/plain": [
              "[<matplotlib.lines.Line2D at 0x7fb2ec5691f0>]"
            ]
          },
          "metadata": {},
          "execution_count": 72
        },
        {
          "output_type": "execute_result",
          "data": {
            "text/plain": [
              "Text(0.5, 1.0, 'Comparisons of stochastic gradient descent and gradient descent')"
            ]
          },
          "metadata": {},
          "execution_count": 72
        },
        {
          "output_type": "execute_result",
          "data": {
            "text/plain": [
              "Text(0.5, 0, 'epochs')"
            ]
          },
          "metadata": {},
          "execution_count": 72
        },
        {
          "output_type": "execute_result",
          "data": {
            "text/plain": [
              "Text(0, 0.5, 'error in log scale')"
            ]
          },
          "metadata": {},
          "execution_count": 72
        },
        {
          "output_type": "execute_result",
          "data": {
            "text/plain": [
              "<matplotlib.legend.Legend at 0x7fb2ecf3f5b0>"
            ]
          },
          "metadata": {},
          "execution_count": 72
        },
        {
          "output_type": "display_data",
          "data": {
            "text/plain": [
              "<Figure size 504x360 with 1 Axes>"
            ],
            "image/png": "[encoded data removed]"
          },
          "metadata": {
            "needs_background": "light"
          }
        }
      ]
    },
    {
      "cell_type": "code",
      "source": [
        "n_epochs=200\n",
        "lbda=0\n",
        "prob=RegPb(A,y,lbda)\n",
        "x0=np.zeros(p)\n",
        "x_min = np.linalg.solve( A.transpose().dot(A)+lbda*np.eye(p), A.transpose().dot(y) )\n",
        "f_min=prob.f(x_min)\n",
        "tau_opt=prob.tau_opt()\n",
        "nb=1\n",
        "\n",
        "R=stochasticgradientdescnet(prob,x0,x_min,0,0.2,200*n_epochs/2,2)[1]\n",
        "\n",
        "R1=stochasticgradientdescnet(prob,x0,x_min,0,0.2,int(200*n_epochs/10),10)[1]\n",
        "R2=stochasticgradientdescnet(prob,x0,x_min,0,0.2,int(200*n_epochs/20),20)[1]\n",
        "R3=stochasticgradientdescnet(prob,x0,x_min,0,0.2,int(200*n_epochs/25),25)[1]\n",
        "R4=stochasticgradientdescnet(prob,x0,x_min,0,0.2,int(200*n_epochs/50),50)[1]\n",
        "plt.figure(figsize=(7, 5))\n",
        "plt.semilogy(R/f_min-1, label=\"batch_size== 2\", lw=2)\n",
        "\n",
        "plt.semilogy(R1/f_min-1, label=\"batch_size == 10\", lw=2)\n",
        "plt.semilogy(R2/f_min-1, label=\"batch_size == 20\", lw=2)\n",
        "plt.semilogy(R3/f_min-1, label=\"batch_size == 30\", lw=2)\n",
        "plt.semilogy(R4/f_min-1, label=\"batch_size == 50\", lw=2)\n",
        "plt.title('Comparisons of stochastic gradient descent with different batch sizes')\n",
        "plt.xlabel('epochs')\n",
        "plt.ylabel('error in log scale')\n",
        "plt.legend()\n",
        "plt.show()"
      ],
      "metadata": {
        "colab": {
          "base_uri": "https://localhost:8080/",
          "height": 419
        },
        "id": "G9ZL_7Jo7-1W",
        "outputId": "31a4f1f8-4a5f-4fe0-c356-9d6ba93f8ace"
      },
      "execution_count": 82,
      "outputs": [
        {
          "output_type": "execute_result",
          "data": {
            "text/plain": [
              "<Figure size 504x360 with 0 Axes>"
            ]
          },
          "metadata": {},
          "execution_count": 82
        },
        {
          "output_type": "execute_result",
          "data": {
            "text/plain": [
              "[<matplotlib.lines.Line2D at 0x7fb2ebfa9f10>]"
            ]
          },
          "metadata": {},
          "execution_count": 82
        },
        {
          "output_type": "execute_result",
          "data": {
            "text/plain": [
              "[<matplotlib.lines.Line2D at 0x7fb2ebfc7490>]"
            ]
          },
          "metadata": {},
          "execution_count": 82
        },
        {
          "output_type": "execute_result",
          "data": {
            "text/plain": [
              "[<matplotlib.lines.Line2D at 0x7fb2ebfc77c0>]"
            ]
          },
          "metadata": {},
          "execution_count": 82
        },
        {
          "output_type": "execute_result",
          "data": {
            "text/plain": [
              "[<matplotlib.lines.Line2D at 0x7fb2ebfc7be0>]"
            ]
          },
          "metadata": {},
          "execution_count": 82
        },
        {
          "output_type": "execute_result",
          "data": {
            "text/plain": [
              "[<matplotlib.lines.Line2D at 0x7fb2ebfcc100>]"
            ]
          },
          "metadata": {},
          "execution_count": 82
        },
        {
          "output_type": "execute_result",
          "data": {
            "text/plain": [
              "Text(0.5, 1.0, 'Comparisons of stochastic gradient descent with different batch sizes')"
            ]
          },
          "metadata": {},
          "execution_count": 82
        },
        {
          "output_type": "execute_result",
          "data": {
            "text/plain": [
              "Text(0.5, 0, 'epochs')"
            ]
          },
          "metadata": {},
          "execution_count": 82
        },
        {
          "output_type": "execute_result",
          "data": {
            "text/plain": [
              "Text(0, 0.5, 'error in log scale')"
            ]
          },
          "metadata": {},
          "execution_count": 82
        },
        {
          "output_type": "execute_result",
          "data": {
            "text/plain": [
              "<matplotlib.legend.Legend at 0x7fb2ec018070>"
            ]
          },
          "metadata": {},
          "execution_count": 82
        },
        {
          "output_type": "display_data",
          "data": {
            "text/plain": [
              "<Figure size 504x360 with 1 Axes>"
            ],
            "image/png": "[encoded data removed]"
          },
          "metadata": {
            "needs_background": "light"
          }
        }
      ]
    }
  ]
}