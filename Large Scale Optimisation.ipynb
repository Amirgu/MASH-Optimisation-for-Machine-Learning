{
  "nbformat": 4,
  "nbformat_minor": 0,
  "metadata": {
    "colab": {
      "provenance": []
    },
    "kernelspec": {
      "name": "python3",
      "display_name": "Python 3"
    },
    "language_info": {
      "name": "python"
    }
  },
  "cells": [
    {
      "cell_type": "code",
      "execution_count": null,
      "metadata": {
        "id": "_pjf31ruJBx7"
      },
      "outputs": [],
      "source": []
    },
    {
      "cell_type": "markdown",
      "source": [
        "**Part 7**"
      ],
      "metadata": {
        "id": "_aIErX9lJDZB"
      }
    },
    {
      "cell_type": "code",
      "source": [
        "from IPython.core.interactiveshell import InteractiveShell\n",
        "InteractiveShell.ast_node_interactivity = 'all'\n",
        "import numpy as np \n",
        "import pandas as pd\n",
        "import seaborn as sns\n",
        "import matplotlib.pyplot as plt\n",
        "\n",
        "import os\n",
        "for dirname, _, filenames in os.walk('/kaggle/input'):\n",
        "    for filename in filenames:\n",
        "        print(os.path.join(dirname, filename))\n",
        "from scipy.linalg import norm"
      ],
      "metadata": {
        "id": "5TWQCirDJHaw"
      },
      "execution_count": 102,
      "outputs": []
    },
    {
      "cell_type": "code",
      "source": [
        "df = pd.read_csv('sample_data/california_housing_train.csv')\n",
        "df1=pd.read_csv('sample_data/california_housing_test.csv')"
      ],
      "metadata": {
        "id": "n9U7z3nRJM6R"
      },
      "execution_count": 103,
      "outputs": []
    },
    {
      "cell_type": "code",
      "source": [
        "y = df['median_income'].values\n",
        "X=df.drop(['median_income'],axis =1).values"
      ],
      "metadata": {
        "id": "R4NBynw8JObp"
      },
      "execution_count": 146,
      "outputs": []
    },
    {
      "cell_type": "code",
      "source": [
        "\n",
        "A=X[:500]\n",
        "y=y[:500]\n",
        "\n",
        "mA = A.mean(axis=0)\n",
        "sA = A.std(axis=0)\n",
        "A = (A-mA)/sA\n",
        "m = y.mean()\n",
        "y = y-m\n",
        "n,p=A.shape"
      ],
      "metadata": {
        "id": "GkAXwgnCJQgh"
      },
      "execution_count": 147,
      "outputs": []
    },
    {
      "cell_type": "code",
      "source": [
        "C = A.transpose().dot(A)\n",
        "\n",
        "\n",
        "2 / ( np.linalg.norm(C,2) + np.linalg.norm(C,-2) )"
      ],
      "metadata": {
        "id": "yyZS6vztJUXh",
        "colab": {
          "base_uri": "https://localhost:8080/"
        },
        "outputId": "c9dad6a8-a3ec-415e-dcee-ff27c2cf5eff"
      },
      "execution_count": 152,
      "outputs": [
        {
          "output_type": "execute_result",
          "data": {
            "text/plain": [
              "0.00102150659527235"
            ]
          },
          "metadata": {},
          "execution_count": 152
        }
      ]
    },
    {
      "cell_type": "code",
      "source": [
        "class RegPb(object):\n",
        "    '''                                                                   \n",
        "        A class for regression problems with linear models.\n",
        "        \n",
        "        Attributes:\n",
        "            A: Data matrix (features)\n",
        "            y: Data vector (labels)\n",
        "            n,d: Dimensions of A\n",
        "            loss: Loss function to be considered in the regression\n",
        "                'l2': Least-squares loss\n",
        "                'logit': Logistic loss\n",
        "            lbda: Regularization parameter\n",
        "    '''\n",
        "   \n",
        "    # Instantiate the class\n",
        "    def __init__(self, A, y,lbda=0):\n",
        "        self.A = A\n",
        "        self.y = y\n",
        "        self.n, self.p = A.shape\n",
        "       \n",
        "        self.lbda = lbda\n",
        "        \n",
        "    \n",
        "    # Objective value\n",
        "    def f(self, x):\n",
        "      return np.linalg.norm(self.A.dot(x) - self.y) ** 2 / (2. ) + self.lbda * norm(x) ** 2 / 2.\n",
        "       \n",
        "    # Partial objective value\n",
        "    def f_i(self, i, x):\n",
        "       \n",
        "      return np.linalg.norm(self.A[i].dot(x) - self.y[i]) ** 2 / (2.) + self.lbda * norm(x) ** 2 / 2.\n",
        " \n",
        "    \n",
        "    # Full gradient computation\n",
        "    def grad(self, x):\n",
        "        \n",
        "    \n",
        "        return self.A.T.dot(self.A.dot(x) - self.y)  + self.lbda * x\n",
        "       \n",
        "    \n",
        "    # Partial gradient\n",
        "    def grad_i(self,i,x):\n",
        "        a_i = self.A[i]\n",
        "        \n",
        "        \n",
        "        return (a_i.dot(x) - self.y[i]) * a_i + self.lbda*x\n",
        "      \n",
        "    def fl1(self,x):\n",
        "        return self.f(x)+norm(x,ord=1)\n",
        "\n",
        "    # maximum learning rate  for the gradient\n",
        "    def tau(self):\n",
        "        C = A.transpose().dot(A)\n",
        "        L = norm(C+self.lbda*np.eye(self.p), ord=2) ** 2  \n",
        "       \n",
        "        return 1/L\n",
        "    # optimal learning rate\n",
        "    def tau_opt(self):\n",
        "      C = A.transpose().dot(A)\n",
        "     \n",
        "\n",
        "      tau_opt = 2 / ( np.linalg.norm(C,2) + np.linalg.norm(C,-2) )\n",
        "      return tau_opt"
      ],
      "metadata": {
        "id": "pRKDCmtn35PG"
      },
      "execution_count": 153,
      "outputs": []
    },
    {
      "cell_type": "code",
      "source": [
        "def gradientdescent(prob,x0,iter,tau): ## \n",
        "  \n",
        "  s=x0\n",
        "  L=[]\n",
        "  val=0\n",
        "  for i in range(iter):\n",
        "    \n",
        "    \n",
        "    g=prob.grad(s)\n",
        "    \n",
        "    s=s - tau*g\n",
        "   \n",
        "    val=prob.f(s)\n",
        "    L.append(val)\n",
        "  return np.array(L),s"
      ],
      "metadata": {
        "id": "dqPHDA0BJpuO"
      },
      "execution_count": 125,
      "outputs": []
    },
    {
      "cell_type": "code",
      "source": [
        "\n",
        "def heavyball(prob,x0,x_min,n_epochs,tau_opt,gamma):\n",
        "  m0=prob.grad(x0)\n",
        "  s=x0\n",
        "  L1=[]\n",
        "  for i in range(n_epochs):\n",
        "    \n",
        "    h=gamma*m0+(1-gamma)*prob.grad(s)\n",
        "    m0=h\n",
        "    \n",
        "    s=s-tau_opt*m0\n",
        "    \n",
        "    L1.append(prob.f(s)-prob.f(x_min))\n",
        "\n",
        "  return np.array(L1),s"
      ],
      "metadata": {
        "id": "NpDbULXrJfW5"
      },
      "execution_count": 136,
      "outputs": []
    },
    {
      "cell_type": "code",
      "source": [
        "x0=np.zeros(p)\n",
        "prob=RegPb(A,y)\n",
        "n_epochs=500\n",
        "tau_opt=prob.tau_opt()\n",
        "\n",
        "x_min = np.linalg.solve( A.transpose().dot(A), A.transpose().dot(y) )\n",
        "\n",
        "L5=gradientdescent(prob,x0,n_epochs,tau_opt)[0]\n",
        "L6=heavyball(prob,x0,x_min,n_epochs,tau_opt,0.3)[0]\n",
        "L7=heavyball(prob,x0,x_min,n_epochs,tau_opt,0.8)[0]\n",
        "L8=heavyball(prob,x0,x_min,n_epochs,tau_opt,0.9)[0]\n",
        "\n",
        "plt.semilogy([i for i in range(n_epochs)],L5-prob.f(x_min), label=\"gradient descent\", lw=2)\n",
        "plt.semilogy([i for i in range(n_epochs)],L6, label=\"momentum=0.3\", lw=2)\n",
        "plt.semilogy([i for i in range(n_epochs)],L7, label=\"momentum=0.8\", lw=2)\n",
        "plt.semilogy([i for i in range(n_epochs)],L8, label=\"momentum=0.9\", lw=2)\n",
        "plt.legend()\n",
        "plt.show()"
      ],
      "metadata": {
        "colab": {
          "base_uri": "https://localhost:8080/",
          "height": 300
        },
        "id": "9XiAj0XiJqtX",
        "outputId": "d1ae7a16-aaef-49dd-d66c-33e615a5e2d2"
      },
      "execution_count": 190,
      "outputs": [
        {
          "output_type": "execute_result",
          "data": {
            "text/plain": [
              "[<matplotlib.lines.Line2D at 0x7f4b67a5b7c0>]"
            ]
          },
          "metadata": {},
          "execution_count": 190
        },
        {
          "output_type": "execute_result",
          "data": {
            "text/plain": [
              "[<matplotlib.lines.Line2D at 0x7f4b67a5bd60>]"
            ]
          },
          "metadata": {},
          "execution_count": 190
        },
        {
          "output_type": "execute_result",
          "data": {
            "text/plain": [
              "[<matplotlib.lines.Line2D at 0x7f4b67a790a0>]"
            ]
          },
          "metadata": {},
          "execution_count": 190
        },
        {
          "output_type": "execute_result",
          "data": {
            "text/plain": [
              "[<matplotlib.lines.Line2D at 0x7f4b67a794c0>]"
            ]
          },
          "metadata": {},
          "execution_count": 190
        },
        {
          "output_type": "execute_result",
          "data": {
            "text/plain": [
              "<matplotlib.legend.Legend at 0x7f4b67a5b520>"
            ]
          },
          "metadata": {},
          "execution_count": 190
        },
        {
          "output_type": "display_data",
          "data": {
            "text/plain": [
              "<Figure size 432x288 with 1 Axes>"
            ],
            "image/png": "[encoded data removed]"
          },
          "metadata": {
            "needs_background": "light"
          }
        }
      ]
    }
  ]
}