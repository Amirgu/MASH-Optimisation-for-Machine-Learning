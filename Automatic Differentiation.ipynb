{
  "nbformat": 4,
  "nbformat_minor": 0,
  "metadata": {
    "colab": {
      "provenance": []
    },
    "kernelspec": {
      "name": "python3",
      "display_name": "Python 3"
    },
    "language_info": {
      "name": "python"
    }
  },
  "cells": [
    {
      "cell_type": "code",
      "execution_count": null,
      "metadata": {
        "id": "LfZ_7WVWPhmH"
      },
      "outputs": [],
      "source": [
        "import numpy as np\n",
        "\n",
        "def dot(W, x):\n",
        "    \n",
        "    value = np.dot(W, x)\n",
        "\n",
        "    def vjp(u):\n",
        "        return np.outer(u, x), W.T.dot(u)\n",
        "\n",
        "    return value, vjp\n"
      ]
    },
    {
      "cell_type": "code",
      "source": [
        "def relu(x):\n",
        "    value = np.maximum(x,np.zeros(len(x)))\n",
        "\n",
        "    def vjp(u):\n",
        "      s=np.zeros(len(x))\n",
        "      eps=0.0001\n",
        "      for i in range(len(x)):\n",
        "\n",
        "          s[i]=max(x[i]+eps,0)-max(x[i]-eps,0)\n",
        "          s[i]=s[i]/(2*eps)\n",
        "        \n",
        "      return np.multiply(s,u)        # The comma is important!\n",
        "\n",
        "    return value, vjp"
      ],
      "metadata": {
        "id": "QdZxy1fAeUfp"
      },
      "execution_count": null,
      "outputs": []
    },
    {
      "cell_type": "code",
      "source": [
        "np.dot(np.array([1,0]),np.array([2,2]))"
      ],
      "metadata": {
        "colab": {
          "base_uri": "https://localhost:8080/"
        },
        "id": "1N7h-LFcmbEx",
        "outputId": "fac92f5d-aa59-44c1-8e00-790fea1a9ec3"
      },
      "execution_count": null,
      "outputs": [
        {
          "output_type": "execute_result",
          "data": {
            "text/plain": [
              "2"
            ]
          },
          "metadata": {},
          "execution_count": 77
        }
      ]
    },
    {
      "cell_type": "code",
      "source": [
        "def mlp2(x, W1, W2):\n",
        "   \n",
        "    a=dot(W1,x)\n",
        "    \n",
        "    b=relu(a[0])\n",
        "    c=dot(W2,b[0])\n",
        "    \n",
        "    \n",
        "    def vjp(u):\n",
        "\n",
        "      \n",
        "        \n",
        "\n",
        "      return a[1](b[1](c[1](u)[1]))[1],a[1](b[1](c[1](u)[1]))[0],u*b[0],\n",
        "\n",
        "    return c[0],vjp  "
      ],
      "metadata": {
        "id": "qaA2DoTfesSp"
      },
      "execution_count": null,
      "outputs": []
    },
    {
      "cell_type": "code",
      "source": [
        "W2=np.ones(2)*5\n",
        "W1=np.array([[1,1],[1,0]])\n",
        "x=[5,0]\n",
        "mlp2(x,W1,W2)[1](3)[2]\n"
      ],
      "metadata": {
        "colab": {
          "base_uri": "https://localhost:8080/"
        },
        "id": "cTI8iIRKhzWT",
        "outputId": "99b5e887-552b-448f-a58a-79df7072537f"
      },
      "execution_count": null,
      "outputs": [
        {
          "output_type": "execute_result",
          "data": {
            "text/plain": [
              "array([15., 15.])"
            ]
          },
          "metadata": {},
          "execution_count": 76
        }
      ]
    },
    {
      "cell_type": "code",
      "source": [
        "def squared_loss(y_pred, y):\n",
        "    residual = y_pred - y\n",
        "    \n",
        "    def vjp(u):\n",
        "        \n",
        "        return u*(y_pred-y), u*(y-y_pred)\n",
        "\n",
        "    value = 0.5 * np.sum(residual ** 2)\n",
        "    # The code requires every output to be an array.\n",
        "    return np.array([value]), vjp"
      ],
      "metadata": {
        "id": "ht8biJvoLkJb"
      },
      "execution_count": null,
      "outputs": []
    },
    {
      "cell_type": "code",
      "source": [
        "def loss(x, y, W1, W2):\n",
        "    \n",
        "    value1=mlp2(x,W1,W2)\n",
        "    \n",
        "    value=squared_loss(value1[0],y)\n",
        "\n",
        "    def vjp(u):\n",
        "        a=value1[1]\n",
        "        b=value[1]\n",
        "        \n",
        "        c=a(b(u)[0])[0]\n",
        "        d=a(b(u)[0])[1]\n",
        "        e=a(b(u)[0])[2]\n",
        "        \n",
        "\n",
        "\n",
        "        return c,b(u)[1],d,e\n",
        "    return value[0], vjp"
      ],
      "metadata": {
        "id": "pCS4rzr8MVa8"
      },
      "execution_count": null,
      "outputs": []
    },
    {
      "cell_type": "code",
      "source": [
        "print(loss( np.array([1,0]) ,8 , np.array([[0001.,0.],[7,0]]), np.array([5,7]) )[1](1))"
      ],
      "metadata": {
        "colab": {
          "base_uri": "https://localhost:8080/"
        },
        "id": "ukkQzvAFTiCu",
        "outputId": "ee2ec711-fea5-4d5f-ab6f-47c7836060b1"
      },
      "execution_count": null,
      "outputs": [
        {
          "output_type": "stream",
          "name": "stdout",
          "text": [
            "(array([2483.99999999,    0.        ]), -46.0, array([[230.,   0.],\n",
            "       [322.,   0.]]), array([ 46., 322.]))\n"
          ]
        }
      ]
    },
    {
      "cell_type": "code",
      "source": [
        "def f(x,y,W1,W2):\n",
        "  a=np.dot(W1,x)\n",
        "  b=np.maximum(a,np.zeros(len(a)))\n",
        "  c=W2.dot(b)\n",
        "  d=0.5*(c-y)**2\n",
        "\n",
        "  return d\n",
        "\n",
        "\n",
        "\n"
      ],
      "metadata": {
        "id": "NT4_pArG_r6d"
      },
      "execution_count": null,
      "outputs": []
    },
    {
      "cell_type": "code",
      "source": [
        "def grad(x,y,W1,W2):\n",
        "  a1=np.multiply(np.maximum(np.sign(W1.dot(x)),0),W2)\n",
        "  b1=np.outer(a1,x)\n",
        "  a=np.dot(W1,x)\n",
        "  b=np.maximum(a,np.zeros(len(a)))\n",
        "  c=W2.dot(b)\n",
        "  d=c-y\n",
        "  e1=np.zeros(b1.shape)\n",
        "  e1[1][1]=0.001\n",
        "  \n",
        "  return d*b1\n"
      ],
      "metadata": {
        "id": "YXX5u7UgBUZU"
      },
      "execution_count": null,
      "outputs": []
    },
    {
      "cell_type": "code",
      "source": [
        "grad( np.array([1,0]) ,8 , np.array([[0.001,0],[7,0]]), np.array([5,7]) )"
      ],
      "metadata": {
        "colab": {
          "base_uri": "https://localhost:8080/"
        },
        "id": "UpFff0dTs9De",
        "outputId": "1e9667b3-9442-464e-9556-e2b93c8fc268"
      },
      "execution_count": null,
      "outputs": [
        {
          "output_type": "execute_result",
          "data": {
            "text/plain": [
              "array([[205.025,   0.   ],\n",
              "       [287.035,   0.   ]])"
            ]
          },
          "metadata": {},
          "execution_count": 85
        }
      ]
    },
    {
      "cell_type": "code",
      "source": [
        "def gradientcheck(eps,k,treshold,n,p):\n",
        "\n",
        "\n",
        "    s1,s2,s3,s4 =0,0,0,0\n",
        "    W1 = np.random.randint(10, size=(n,p))\n",
        "    W2=np.random.randint(10,size=(n))\n",
        "    y=np.random.randint(10)\n",
        "    \n",
        "    x=np.random.randint(10,size=(p))\n",
        "    \n",
        "    \n",
        "   \n",
        "   \n",
        "    vjp=loss(x, y, W1, W2)[1](1)\n",
        "\n",
        "    \n",
        "    s1=np.zeros(p)\n",
        "    \n",
        "    s2=(f(x,y+eps,W1,W2)-f(x,y,W1,W2))/eps\n",
        "    \n",
        "    s3=np.zeros((n,p))\n",
        "    s4=np.zeros(n)\n",
        "    for i in range(p):\n",
        "        e1=np.zeros(p)\n",
        "        e1[i]=eps\n",
        "        s1[i]=(f(x+e1,y,W1,W2)-f(x-e1,y,W1,W2))/(2*np.linalg.norm(e1))\n",
        "    \n",
        "    for i in range(n):\n",
        "      for j in range(p):\n",
        "        e3=np.zeros((n,p))\n",
        "        e3[i][j]=eps\n",
        "        s3[i][j]=(f(x,y,W1+e3,W2)-f(x,y,W1-e3,W2))/(2*eps)\n",
        "    for i in range(n):\n",
        "        e4=np.zeros(n)\n",
        "        e4[i]=eps\n",
        "        s4[i]=(f(x,y,W1,W2+e4)-f(x,y,W1,W2-e4))/(2*np.linalg.norm(e4))\n",
        "    \n",
        "    if np.linalg.norm(s1-vjp[0]) < treshold and np.linalg.norm(s2-vjp[1]) < treshold and np.linalg.norm(s3-vjp[2]) < treshold and np.linalg.norm(s4-vjp[3]) < treshold :\n",
        "      \n",
        "      \n",
        "      return 1\n",
        "    else:\n",
        "      print(x,y,W1,W2)\n",
        "      print(f(x,y,W1,W2))\n",
        "      print(loss(x, y, W1, W2)[0])\n",
        "      print(np.linalg.norm(s1-vjp[0]))\n",
        "      print(np.linalg.norm(s2-vjp[1]))\n",
        "      print(s3,vjp[2])\n",
        "      print(np.linalg.norm(s4-vjp[3]))\n",
        "\n",
        "      return 0\n",
        "\n",
        "\n"
      ],
      "metadata": {
        "id": "3CLOjFEBA3fS"
      },
      "execution_count": null,
      "outputs": []
    },
    {
      "cell_type": "code",
      "source": [
        "\n",
        "s=1\n",
        "k=0\n",
        "while s == 1:\n",
        "  s=gradientcheck(0.0000001,10,0.1,2,2)\n",
        "  k+=1\n",
        "  if k > 1000:\n",
        "    print('Gradient checked numerically')\n",
        "    break\n",
        "\n"
      ],
      "metadata": {
        "colab": {
          "base_uri": "https://localhost:8080/"
        },
        "id": "ov_QDRRBEMFq",
        "outputId": "4345b13c-ad23-4783-dd18-5c441e33fede"
      },
      "execution_count": null,
      "outputs": [
        {
          "output_type": "stream",
          "name": "stdout",
          "text": [
            "Gradient checked numerically\n"
          ]
        }
      ]
    },
    {
      "cell_type": "code",
      "source": [
        "%matplotlib inline\n",
        "import numpy as np\n",
        "import matplotlib.pyplot as plt\n",
        "%load_ext autoreload\n",
        "%autoreload 2\n",
        "# This Python 3 environment comes with many helpful analytics libraries installed\n",
        "# It is defined by the kaggle/python Docker image: https://github.com/kaggle/docker-python\n",
        "# For example, here's several helpful packages to load\n",
        "\n",
        "from IPython.core.interactiveshell import InteractiveShell\n",
        "InteractiveShell.ast_node_interactivity = 'all'\n",
        "import numpy as np # linear algebra\n",
        "import pandas as pd # data processing, CSV file I/O (e.g. pd.read_csv)\n",
        "import seaborn as sns\n",
        "import matplotlib.pyplot as plt\n",
        "# Input data files are available in the read-only \"../input/\" directory\n",
        "# For example, running this (by clicking run or pressing Shift+Enter) will list all files under the input directory\n",
        "\n",
        "import os\n",
        "for dirname, _, filenames in os.walk('/kaggle/input'):\n",
        "    for filename in filenames:\n",
        "        print(os.path.join(dirname, filename))\n",
        "\n",
        "# You can write up to 20GB to the current directory (/kaggle/working/) that gets preserved as output when you create a version using \"Save & Run All\" \n",
        "# You can also write temporary files to /kaggle/temp/, but they won't be saved outside of the cur\n",
        "df = pd.read_csv('sample_data/california_housing_train.csv')\n",
        "df1=pd.read_csv('sample_data/california_housing_test.csv')\n",
        "y = df['median_income'].values\n",
        "X =df.drop(['median_income'],axis =1)\n",
        "A=X.values\n",
        "A=np.array(A[:50])\n",
        "y=np.array(y[:50])\n",
        "mA = A.mean(axis=0)\n",
        "sA = A.std(axis=0)\n",
        "A = (A-mA)/sA\n",
        "m = y.mean()\n",
        "y = y-m"
      ],
      "metadata": {
        "id": "9_fU__ygEKGr"
      },
      "execution_count": null,
      "outputs": []
    },
    {
      "cell_type": "code",
      "source": [
        "def los1(W1,W2):\n",
        "  s=0\n",
        "  for i in range(50):\n",
        "    s+=loss(A[i],y[i],W1,W2)[0]\n",
        "  \n",
        "  return s"
      ],
      "metadata": {
        "id": "rmPQCcOK64xS"
      },
      "execution_count": null,
      "outputs": []
    },
    {
      "cell_type": "code",
      "source": [
        "np.random.random((3,)"
      ],
      "metadata": {
        "colab": {
          "base_uri": "https://localhost:8080/",
          "height": 131
        },
        "id": "tsDSB3vNI3i5",
        "outputId": "2407f23d-8a14-497f-dc15-8736b4e3899b"
      },
      "execution_count": null,
      "outputs": [
        {
          "output_type": "error",
          "ename": "SyntaxError",
          "evalue": "ignored",
          "traceback": [
            "\u001b[0;36m  File \u001b[0;32m\"<ipython-input-136-14d91c8dad37>\"\u001b[0;36m, line \u001b[0;32m1\u001b[0m\n\u001b[0;31m    np.random.random((3,)\u001b[0m\n\u001b[0m                         ^\u001b[0m\n\u001b[0;31mSyntaxError\u001b[0m\u001b[0;31m:\u001b[0m unexpected EOF while parsing\n"
          ]
        }
      ]
    },
    {
      "cell_type": "code",
      "source": [
        "def stochasticgradientdescnet(q,tau,step, n_iter=1000,nb=1): \n",
        "   \n",
        "    # Initial step: Compute and plot some initial quantities\n",
        "\n",
        "    # objective history\n",
        "    objvals = []\n",
        "    \n",
        "   \n",
        "    with_replace=False\n",
        "    \n",
        "    \n",
        "    \n",
        "    n = 50\n",
        "    \n",
        "    \n",
        "    W1=np.random.random((q, 8))\n",
        "    W2=np.ones(q)\n",
        "\n",
        "\n",
        "    k=0\n",
        "    \n",
        "   \n",
        "    obj = los1(W1,W2)\n",
        "    objvals.append(obj);\n",
        "   \n",
        "    \n",
        "    \n",
        "    \n",
        "  \n",
        "    # Main loop\n",
        "    while (k < n_iter):\n",
        "        # Draw the batch indices\n",
        "        ik = np.random.choice(50,nb,replace=with_replace)# Batch gradient\n",
        "        \n",
        "        # Stochastic gradient calculation\n",
        "        \n",
        "        sg1 = np.zeros(W1.shape)\n",
        "        sg2 = np.zeros(W2.shape)\n",
        "        for j in range(nb):\n",
        "            gradW1=loss(A[ik[j]],y[ik[j]],W1,W2)[1](1)[2]\n",
        "            gradW2=loss(A[ik[j]],y[ik[j]],W1,W2)[1](1)[3]\n",
        "            \n",
        "            \n",
        "            sg1 = sg1 + gradW1\n",
        "            sg2=  sg2 + gradW2\n",
        "\n",
        "        sg1 = (1/nb)*sg1\n",
        "        sg2 = (1/nb)*sg2\n",
        "        if step== 0:\n",
        "          W1=W1-tau*gradW1\n",
        "          W2=W2-tau*gradW2\n",
        "\n",
        "        else:\n",
        "          t=float(step/(np.sqrt(k+1)))\n",
        "          W1=W1-t*gradW1\n",
        "          W2=W2-t*gradW2\n",
        "       \n",
        "        \n",
        "      \n",
        "        obj =los1(W1,W2)/n\n",
        "\n",
        "       \n",
        "        \n",
        "        k += 1\n",
        "        \n",
        "        if (k*nb) % n == 0:\n",
        "            objvals.append(obj)\n",
        "            \n",
        "    \n",
        "    # Plot quantities of interest for the last iterate (if needed)\n",
        "    if (k*nb) % n > 0:\n",
        "        objvals.append(obj)\n",
        "        \n",
        "              \n",
        "    \n",
        "    # Outputs\n",
        "    \n",
        "    \n",
        "    return W1,W2, np.array(objvals), "
      ],
      "metadata": {
        "id": "gl-Ghtmh3uCq"
      },
      "execution_count": null,
      "outputs": []
    },
    {
      "cell_type": "code",
      "source": [
        "import matplotlib.pyplot as plt\n"
      ],
      "metadata": {
        "id": "6JnqSFpdMId3"
      },
      "execution_count": null,
      "outputs": []
    },
    {
      "cell_type": "code",
      "source": [
        "L1=stochasticgradientdescnet(100,0.001,0,600,5)[2]\n",
        "L2=stochasticgradientdescnet(20,0.001,0,600,5)[2]\n",
        "plt.semilogy(L1,label='1')\n",
        "plt.semilogy(L2,label='2')\n",
        "plt.legend()"
      ],
      "metadata": {
        "colab": {
          "base_uri": "https://localhost:8080/",
          "height": 301
        },
        "id": "XSBJ01vPJy84",
        "outputId": "c386c5d9-cd48-4353-fafa-bd90d2790624"
      },
      "execution_count": null,
      "outputs": [
        {
          "output_type": "execute_result",
          "data": {
            "text/plain": [
              "[<matplotlib.lines.Line2D at 0x7f3963197c10>]"
            ]
          },
          "metadata": {},
          "execution_count": 20
        },
        {
          "output_type": "execute_result",
          "data": {
            "text/plain": [
              "[<matplotlib.lines.Line2D at 0x7f39631a3160>]"
            ]
          },
          "metadata": {},
          "execution_count": 20
        },
        {
          "output_type": "execute_result",
          "data": {
            "text/plain": [
              "<matplotlib.legend.Legend at 0x7f3963197f40>"
            ]
          },
          "metadata": {},
          "execution_count": 20
        },
        {
          "output_type": "display_data",
          "data": {
            "text/plain": [
              "<Figure size 432x288 with 1 Axes>"
            ],
            "image/png": "[encoded data removed]"
          },
          "metadata": {
            "needs_background": "light"
          }
        }
      ]
    },
    {
      "cell_type": "code",
      "source": [],
      "metadata": {
        "id": "sq84lV4SnnOq"
      },
      "execution_count": null,
      "outputs": []
    }
  ]
}