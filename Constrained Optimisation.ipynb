{
  "nbformat": 4,
  "nbformat_minor": 0,
  "metadata": {
    "colab": {
      "provenance": []
    },
    "kernelspec": {
      "name": "python3",
      "display_name": "Python 3"
    },
    "language_info": {
      "name": "python"
    }
  },
  "cells": [
    {
      "cell_type": "markdown",
      "source": [
        "**Part4**"
      ],
      "metadata": {
        "id": "Q1E1Ty3JEH9D"
      }
    },
    {
      "cell_type": "code",
      "source": [
        "!pip install numdifftools"
      ],
      "metadata": {
        "colab": {
          "base_uri": "https://localhost:8080/"
        },
        "id": "m73sE7lAUMxk",
        "outputId": "fb794752-6196-43d4-e330-1236fae147a8"
      },
      "execution_count": 1,
      "outputs": [
        {
          "output_type": "stream",
          "name": "stdout",
          "text": [
            "Looking in indexes: https://pypi.org/simple, https://us-python.pkg.dev/colab-wheels/public/simple/\n",
            "Collecting numdifftools\n",
            "  Downloading numdifftools-0.9.41-py2.py3-none-any.whl (100 kB)\n",
            "\u001b[2K     \u001b[90m━━━━━━━━━━━━━━━━━━━━━━━━━━━━━━━━━━━━━━━\u001b[0m \u001b[32m100.2/100.2 KB\u001b[0m \u001b[31m2.4 MB/s\u001b[0m eta \u001b[36m0:00:00\u001b[0m\n",
            "\u001b[?25hRequirement already satisfied: scipy>=0.8 in /usr/local/lib/python3.8/dist-packages (from numdifftools) (1.7.3)\n",
            "Requirement already satisfied: numpy>=1.9 in /usr/local/lib/python3.8/dist-packages (from numdifftools) (1.21.6)\n",
            "Installing collected packages: numdifftools\n",
            "Successfully installed numdifftools-0.9.41\n"
          ]
        }
      ]
    },
    {
      "cell_type": "markdown",
      "source": [],
      "metadata": {
        "id": "k5IWvCl_EFDy"
      }
    },
    {
      "cell_type": "code",
      "execution_count": 18,
      "metadata": {
        "id": "Csd13YTnPWsd"
      },
      "outputs": [],
      "source": [
        "\n",
        "\n",
        "import numpy as np\n",
        "import numpy.linalg as npl\n",
        "\n",
        "import numdifftools as nd\n",
        "\n",
        "\n",
        "\n",
        "def projl2ball(x,R):\n",
        "  norm=npl.norm(x)\n",
        "  r=R/(max(R,norm))\n",
        "  s=x\n",
        " \n",
        "  s=s*r\n",
        "  return s\n",
        "\n",
        "def projlinfball(x,R):\n",
        "  s=np.zeros(len(x))\n",
        "  for i in range(len(x)):\n",
        "    if x[i] > R :\n",
        "      s[i]=R\n",
        "    elif x[i] < -R:\n",
        "      s[i]=-R\n",
        "    else:\n",
        "      s[i]=x[i]\n",
        "  return np.array(s)\n",
        "\n",
        "\n",
        "g = lambda x : x[0]**2-x[1]**2\n",
        "def optim(f,x0,k,tau=0.1):\n",
        "  s0=x0\n",
        "  \n",
        "  grad = nd.Gradient(f)(s0) \n",
        "  s1=projlinfball(x0-tau*grad,1)\n",
        "  L=[]\n",
        "  for i in range(k):\n",
        "    l=i\n",
        "    L.append(f(s0))\n",
        "    s0=s1\n",
        "    grad = nd.Gradient(f)(s0)\n",
        "    s1=projlinfball(s0-tau*grad,1) ##1\n",
        "    \n",
        "    \n",
        "  return f(s1),s1,i,L\n",
        "\n",
        "\n",
        "def frankwolfelinf(f,x0,k,eps=0.0001):\n",
        "\n",
        "  s0=x0\n",
        "  \n",
        "  grad = nd.Gradient(f)(s0)\n",
        "  s1=x0+(eps*1.00001)/(npl.norm(s0))*x0\n",
        "  theta=1\n",
        "  l=0\n",
        "  L=[]\n",
        "  for i in range(k):\n",
        "    \n",
        "    l=i\n",
        "    grad = nd.Gradient(f)(s0)\n",
        "    t=-np.sign(grad)\n",
        "    \n",
        "    \n",
        "    if np.dot(grad,t-s0) > 0:\n",
        "      \n",
        "      return f(s1),L,l\n",
        "      break\n",
        "    \n",
        "    theta=(2/(i+2))\n",
        "    \n",
        "    s1=theta*t+(1-theta)*s0\n",
        "    \n",
        "    L.append(f(s0))\n",
        "    \n",
        "    if npl.norm(s1-s0) < eps:\n",
        "      \n",
        "      break\n",
        "    s0=s1\n",
        "\n",
        "  return f(s1),s1,l,L\n",
        "\n",
        "\n",
        "\n",
        "\n",
        "\n",
        "\n"
      ]
    },
    {
      "cell_type": "code",
      "source": [
        "print(frankwolfelinf(g,np.array([0.5,0.7]),20)[3])\n"
      ],
      "metadata": {
        "colab": {
          "base_uri": "https://localhost:8080/"
        },
        "id": "mEle2QNtE6oE",
        "outputId": "e95292cd-3a09-4142-9668-8ca1dd38c7c6"
      },
      "execution_count": 10,
      "outputs": [
        {
          "output_type": "stream",
          "name": "stdout",
          "text": [
            "[-0.23999999999999994, 0.0, -0.888888888888889, -0.8888888888888888, -0.96, -0.96, -0.9795918367346939, -0.9795918367346939, -0.9876543209876543, -0.9876543209876543, -0.9917355371900827, -0.9917355371900827, -0.9940828402366864, -0.9940828402366864, -0.9955555555555555, -0.9955555555555555, -0.9965397923875432, -0.9965397923875432, -0.997229916897507, -0.997229916897507]\n"
          ]
        }
      ]
    },
    {
      "cell_type": "code",
      "source": [
        "\n",
        "import matplotlib.pyplot as plt\n",
        "L=frankwolfelinf(g,np.array([0.5,0.5]),50)[3]\n",
        "l=frankwolfelinf(g,np.array([0.5,0.5]),50)[2]\n",
        "\n",
        "\n",
        "L1=optim(g,np.array([0.5,0.5]),50)[3]\n",
        "l1=optim(g,np.array([0.5,0.5]),50)[2]\n",
        "\n",
        "\n",
        "\n",
        "\n",
        "plt.plot([i for i in range(50)],L1,label='projected gradien descent on l-inf ball')\n",
        "plt.plot([i for i in range(50)],L,label='frankwolfe on l-inf ball')\n",
        "plt.xlabel('iterations')\n",
        "plt.ylabel('f(X)')\n",
        "plt.title(\"iterations\")\n",
        "plt.legend()\n",
        "plt.show()"
      ],
      "metadata": {
        "id": "_XI3br4dh2WO",
        "colab": {
          "base_uri": "https://localhost:8080/",
          "height": 295
        },
        "outputId": "89f0d21f-d66f-4d1c-bec6-4b666017ab25"
      },
      "execution_count": 22,
      "outputs": [
        {
          "output_type": "display_data",
          "data": {
            "text/plain": [
              "<Figure size 432x288 with 1 Axes>"
            ],
            "image/png": "[encoded data removed]"
          },
          "metadata": {
            "needs_background": "light"
          }
        }
      ]
    },
    {
      "cell_type": "code",
      "source": [
        "import numpy.linalg as npl\n",
        "import numpy as np\n",
        "import numdifftools as nd\n",
        "def projsimplex(y):       ## fast projection into the simplex following laurent condat paper\n",
        "  N=len(y)\n",
        "  L=np.array([])\n",
        "  v=np.array([y[0]])\n",
        "  gho=y[0]-1.\n",
        "  k=0\n",
        "  for i in range(1,N):\n",
        "    \n",
        "    if y[i] > gho:\n",
        "      t=len(v)+1\n",
        "      t=1/t\n",
        "      gho=gho+t*(y[i]-gho)\n",
        "      \n",
        "      \n",
        "      if gho >y[i]-1:\n",
        "        \n",
        "        v=np.append(v,y[i])\n",
        "        \n",
        "      else:\n",
        "        \n",
        "        L=np.append(L,v)\n",
        "        \n",
        "        gho=y[i]-1\n",
        "  if len(L) > 0:\n",
        "    \n",
        "    for i in range(len(L)):\n",
        "      if L[i] > gho:\n",
        "        v=np.append(v,[L[i]])\n",
        "        gho=gho+(1/(len(v)))(L[i]-gho)\n",
        "\n",
        "  s=len(v)+1\n",
        "  \n",
        "\n",
        "  while True:\n",
        "    \n",
        "    if s != len(v)  :\n",
        "        s=len(v)\n",
        "        k=[]\n",
        "        l=1\n",
        "        if len(v) > 0:\n",
        "            for i in range(len(v)):\n",
        "              \n",
        "              if v[i] <= gho:\n",
        "                k.append(i)\n",
        "                if len(v) >1:\n",
        "                  gho=gho+(gho-v[i])/(len(v)-l)\n",
        "                \n",
        "                l+=1\n",
        "          \n",
        "            \n",
        "        v=np.delete(v,k)\n",
        "        \n",
        "        \n",
        "      \n",
        "    else:\n",
        "      \n",
        "      break\n",
        "  tau=gho\n",
        "  k=npl.norm(v)\n",
        "  X=np.zeros(N)\n",
        "  for i in range(N):\n",
        "    X[i]=max(y[i]-tau,0)\n",
        "  return X\n",
        "g = lambda x : x[0]**4+x[1]**2\n",
        "def optimsimplex(f,x0,k,tau=0.1):\n",
        "  s0=x0\n",
        "  \n",
        "  grad = nd.Gradient(f)(s0) \n",
        "  s1=projsimplex(x0-tau*grad)\n",
        "  L=[]\n",
        "  for i in range(k):\n",
        "    l=i\n",
        "    L.append(f(s0))\n",
        "    s0=s1\n",
        "    grad = nd.Gradient(f)(s0)\n",
        "    s1=projsimplex(s0-tau*grad)\n",
        "    \n",
        "    \n",
        "  return f(s1),s1,i,L\n",
        "print(optimsimplex(g,[0.5,0.5],100))"
      ],
      "metadata": {
        "colab": {
          "base_uri": "https://localhost:8080/"
        },
        "id": "64xO7XJtXEBe",
        "outputId": "82e5a5b9-e8c5-496d-a41d-d9dce55428b5"
      },
      "execution_count": 23,
      "outputs": [
        {
          "output_type": "stream",
          "name": "stdout",
          "text": [
            "(0.289273423937778, array([0.58975451, 0.41024549]), 99, [0.3125, 0.301594140625, 0.2956327613600169, 0.29248714554516864, 0.29087193434457664, 0.29005932608574975, 0.2896565801314206, 0.28945911287161674, 0.2893630351507904, 0.28931654128618167, 0.2892941274030749, 0.2892833507154132, 0.2892781788094411, 0.28927569991400814, 0.2892745128369236, 0.2892739447280665, 0.28927367295990536, 0.28927354299169955, 0.2892734808494756, 0.2892734511413684, 0.28927343694031177, 0.28927343015238843, 0.2892734269079996, 0.2892734253573461, 0.28927342461622885, 0.2892734242620257, 0.2892734240927427, 0.2892734240118386, 0.28927342397317285, 0.2892734239546938, 0.2892734239458623, 0.28927342394164157, 0.2892734239396244, 0.28927342393866046, 0.28927342393819966, 0.2892734239379795, 0.2892734239378743, 0.289273423937824, 0.2892734239377999, 0.2892734239377885, 0.28927342393778294, 0.2892734239377803, 0.28927342393777905, 0.2892734239377785, 0.2892734239377782, 0.28927342393777805, 0.289273423937778, 0.289273423937778, 0.289273423937778, 0.2892734239377779, 0.28927342393777794, 0.2892734239377779, 0.2892734239377779, 0.289273423937778, 0.2892734239377779, 0.28927342393777794, 0.289273423937778, 0.28927342393777794, 0.289273423937778, 0.2892734239377779, 0.289273423937778, 0.28927342393777794, 0.2892734239377779, 0.289273423937778, 0.28927342393777794, 0.2892734239377779, 0.28927342393777794, 0.2892734239377779, 0.28927342393777794, 0.2892734239377779, 0.28927342393777794, 0.289273423937778, 0.2892734239377779, 0.2892734239377779, 0.289273423937778, 0.2892734239377779, 0.289273423937778, 0.289273423937778, 0.289273423937778, 0.289273423937778, 0.2892734239377779, 0.289273423937778, 0.28927342393777794, 0.2892734239377779, 0.2892734239377779, 0.2892734239377779, 0.289273423937778, 0.28927342393777794, 0.289273423937778, 0.2892734239377779, 0.28927342393777794, 0.28927342393777794, 0.289273423937778, 0.289273423937778, 0.289273423937778, 0.289273423937778, 0.289273423937778, 0.289273423937778, 0.289273423937778, 0.289273423937778])\n"
          ]
        }
      ]
    },
    {
      "cell_type": "code",
      "source": [],
      "metadata": {
        "colab": {
          "base_uri": "https://localhost:8080/"
        },
        "id": "aNvFUk4PziGA",
        "outputId": "9cec2a0e-cbf7-49e2-a33c-0f118760c6ee"
      },
      "execution_count": null,
      "outputs": [
        {
          "output_type": "stream",
          "name": "stdout",
          "text": [
            "[4 5]\n"
          ]
        }
      ]
    },
    {
      "cell_type": "code",
      "source": [
        "def frankwolfesimplex(f,x0,k):\n",
        "\n",
        "  s0=x0\n",
        "  \n",
        "\n",
        "  l=0\n",
        "  L=[]\n",
        "  for i in range(k):\n",
        "    \n",
        "    l=i\n",
        "    grad = nd.Gradient(f)(s0)\n",
        "    t=np.zeros(len(grad))\n",
        "    t[np.argmin(grad)]=1\n",
        "  \n",
        "    \n",
        "    \n",
        "    if np.dot(grad,t-s0) > 0:\n",
        "      print('passe par la ')\n",
        "      return f(s1),L,l\n",
        "      break\n",
        "    \n",
        "    theta=(2/(i+2))\n",
        "    \n",
        "    s1=theta*t+(1-theta)*s0\n",
        "    \n",
        "    L.append(f(s0))\n",
        "    \n",
        "    \n",
        "    s0=s1\n",
        "\n",
        "  return f(s1),s1,l,L\n"
      ],
      "metadata": {
        "id": "XTlbGK_cziKt"
      },
      "execution_count": 24,
      "outputs": []
    },
    {
      "cell_type": "code",
      "source": [
        "\n",
        "g = lambda x : x[0]**3+x[1]**2\n",
        "L=frankwolfesimplex(g,np.array([0.49,0.5]),50)[3]\n",
        "\n",
        "\n",
        "\n",
        "L1=optimsimplex(g,np.array([0.5,0.5]),50)[3]\n",
        "\n",
        "\n",
        "\n",
        "\n",
        "\n",
        "plt.plot([i for i in range(50)],L1,label='projected gradien descent onthe simplex')\n",
        "plt.plot([i for i in range(50)],L,label='frankwolfe on the simplex')\n",
        "plt.xlabel('iterations')\n",
        "plt.ylabel('f(X)')\n",
        "plt.title(\"iterations\")\n",
        "plt.legend()\n",
        "plt.show()"
      ],
      "metadata": {
        "colab": {
          "base_uri": "https://localhost:8080/",
          "height": 295
        },
        "id": "U1tXLK74U-2M",
        "outputId": "09502638-4359-4c26-a5f5-72c6132b4acb"
      },
      "execution_count": 29,
      "outputs": [
        {
          "output_type": "display_data",
          "data": {
            "text/plain": [
              "<Figure size 432x288 with 1 Axes>"
            ],
            "image/png": "[encoded data removed]"
          },
          "metadata": {
            "needs_background": "light"
          }
        }
      ]
    }
  ]
}